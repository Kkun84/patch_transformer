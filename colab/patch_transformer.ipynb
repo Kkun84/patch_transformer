{
  "nbformat": 4,
  "nbformat_minor": 0,
  "metadata": {
    "colab": {
      "name": "patch_transformer.ipynb",
      "provenance": [],
      "collapsed_sections": [],
      "authorship_tag": "ABX9TyN5NYWeJxGScL0K6UgKlAcr",
      "include_colab_link": true
    },
    "kernelspec": {
      "name": "python3",
      "display_name": "Python 3"
    },
    "language_info": {
      "name": "python"
    },
    "accelerator": "GPU"
  },
  "cells": [
    {
      "cell_type": "markdown",
      "metadata": {
        "id": "view-in-github",
        "colab_type": "text"
      },
      "source": [
        "<a href=\"https://colab.research.google.com/github/Kkun84/patch_transformer/blob/master/colab/patch_transformer.ipynb\" target=\"_parent\"><img src=\"https://colab.research.google.com/assets/colab-badge.svg\" alt=\"Open In Colab\"/></a>"
      ]
    },
    {
      "cell_type": "code",
      "metadata": {
        "colab": {
          "base_uri": "https://localhost:8080/"
        },
        "id": "dqHOz5CP1Pqo",
        "outputId": "b9ded7ef-254c-4982-e660-2dfd1a3dd9f8"
      },
      "source": [
        "!pip install torchinfo"
      ],
      "execution_count": 52,
      "outputs": [
        {
          "output_type": "stream",
          "text": [
            "Requirement already satisfied: torchinfo in /usr/local/lib/python3.7/dist-packages (0.1.2)\n"
          ],
          "name": "stdout"
        }
      ]
    },
    {
      "cell_type": "code",
      "metadata": {
        "id": "IkWOk4f6MLJk"
      },
      "source": [
        "import torch\n",
        "from torch import nn, Tensor\n",
        "from torch import tensor\n",
        "import torch.nn.functional as F\n",
        "\n",
        "\n",
        "class TransformerModel(nn.Module):\n",
        "    def __init__(\n",
        "        self,\n",
        "        *,\n",
        "        image_size: int = 28,\n",
        "        image_channels: int = 1,\n",
        "        patch_size: int = 7,\n",
        "        num_classes: int = 10,\n",
        "        dim: int = 64,\n",
        "        nhead: int = 1,\n",
        "        dim_feedforward: int = 64,\n",
        "        depth: int = 3,\n",
        "        dropout: float = 0.5,\n",
        "    ) -> None:\n",
        "        super().__init__()\n",
        "\n",
        "        assert (\n",
        "            image_size % patch_size == 0\n",
        "        ), f'{image_size}, {patch_size}, {image_size % patch_size}'\n",
        "\n",
        "        self.input_shape = (image_channels, image_size, image_size)\n",
        "\n",
        "        self.image_size = image_size\n",
        "        self.image_channels = image_channels\n",
        "        self.patch_size = patch_size\n",
        "        self.dim = dim\n",
        "\n",
        "        self.num_patches = (image_size // patch_size) ** 2\n",
        "        self.patch_dim = image_channels * patch_size ** 2\n",
        "\n",
        "        # self.cls_token = nn.Parameter(torch.randn(1, 1, dim))\n",
        "\n",
        "        self.patch_embedding = nn.Linear(self.patch_dim, dim)\n",
        "\n",
        "        encoder_layer = nn.TransformerEncoderLayer(\n",
        "            d_model=dim,\n",
        "            nhead=nhead,\n",
        "            dim_feedforward=dim_feedforward,\n",
        "            dropout=dropout,\n",
        "        )\n",
        "        self.transformer_encoder = nn.TransformerEncoder(\n",
        "            encoder_layer=encoder_layer, num_layers=depth\n",
        "        )\n",
        "\n",
        "        self.mlp_head = nn.Linear(dim, num_classes)\n",
        "\n",
        "    def unfold_patch(self, image: Tensor) -> Tensor:\n",
        "        batch_size = len(image)\n",
        "\n",
        "        verify_shape = torch.Size(\n",
        "            [batch_size, self.image_channels, self.image_size, self.image_size]\n",
        "        )\n",
        "        assert image.shape == verify_shape, f'{image.shape}, {verify_shape}'\n",
        "\n",
        "        x = image.unfold(2, self.patch_size, self.patch_size).unfold(\n",
        "            3, self.patch_size, self.patch_size\n",
        "        )\n",
        "\n",
        "        verify_shape = torch.Size(\n",
        "            [\n",
        "                batch_size,\n",
        "                self.image_channels,\n",
        "                self.image_size // self.patch_size,\n",
        "                self.image_size // self.patch_size,\n",
        "                self.patch_size,\n",
        "                self.patch_size,\n",
        "            ]\n",
        "        )\n",
        "        assert x.shape == verify_shape, f'{x.shape}, {verify_shape}'\n",
        "\n",
        "        x = x.permute(0, 2, 3, 1, 4, 5).reshape(\n",
        "            batch_size,\n",
        "            self.num_patches,\n",
        "            self.image_channels,\n",
        "            self.patch_size,\n",
        "            self.patch_size,\n",
        "        )\n",
        "        return x\n",
        "\n",
        "    def forward(self, image: Tensor) -> Tensor:\n",
        "        batch_size = len(image)\n",
        "\n",
        "        patches = self.unfold_patch(image)\n",
        "        x = patches.flatten(2)\n",
        "\n",
        "        verify_shape = torch.Size([batch_size, self.num_patches, self.patch_dim])\n",
        "        assert x.shape == verify_shape, f'{x.shape}, {verify_shape}'\n",
        "\n",
        "        x = self.patch_embedding(x)\n",
        "        x = self.transformer_encoder(x)\n",
        "        x = x.mean(1)\n",
        "\n",
        "        verify_shape = torch.Size([batch_size, self.dim])\n",
        "        assert x.shape == verify_shape, f'{x.shape}, {verify_shape}'\n",
        "\n",
        "        x = self.mlp_head(x)\n",
        "        return x"
      ],
      "execution_count": 53,
      "outputs": []
    },
    {
      "cell_type": "code",
      "metadata": {
        "colab": {
          "base_uri": "https://localhost:8080/"
        },
        "id": "Rb5eukNq1KpD",
        "outputId": "a4783f41-6aa6-4a1a-e616-8c332d7a39ea"
      },
      "source": [
        "import shutil\n",
        "from pathlib import Path\n",
        "\n",
        "import numpy as np\n",
        "import torch\n",
        "import torch.nn.functional as F\n",
        "import torch.optim as optim\n",
        "import torchvision.transforms as transforms\n",
        "from torch import Tensor, nn\n",
        "from torch.utils.data import DataLoader\n",
        "from torch.utils.tensorboard import SummaryWriter\n",
        "from torchinfo import summary\n",
        "from torchvision import transforms\n",
        "from torchvision.datasets import MNIST\n",
        "from tqdm import tqdm\n",
        "\n",
        "\n",
        "batch_size = 64\n",
        "lr = 0.001\n",
        "max_epoch = 30\n",
        "\n",
        "\n",
        "device = torch.device('cuda') if torch.cuda.is_available() else torch.device('cpu')\n",
        "writer = SummaryWriter()\n",
        "log_dir = Path(writer.get_logdir())\n",
        "\n",
        "transform = transforms.Compose([transforms.ToTensor()])\n",
        "\n",
        "train_dataset = MNIST(root='./data', train=True, download=True, transform=transform)\n",
        "test_dataset = MNIST(root='./data', train=False, download=True, transform=transform)\n",
        "\n",
        "train_dataloader = DataLoader(\n",
        "    train_dataset, batch_size=batch_size, shuffle=True, num_workers=2\n",
        ")\n",
        "test_dataloader = DataLoader(\n",
        "    test_dataset, batch_size=batch_size, shuffle=False, num_workers=2\n",
        ")\n",
        "\n",
        "model = TransformerModel().to(device)\n",
        "print(summary(model, (2, *model.input_shape)))\n",
        "\n",
        "optimizer = optim.Adam(model.parameters(), lr=lr)\n",
        "\n",
        "n_iter = 0"
      ],
      "execution_count": 54,
      "outputs": [
        {
          "output_type": "stream",
          "text": [
            "===============================================================================================\n",
            "Layer (type:depth-idx)                        Output Shape              Param #\n",
            "===============================================================================================\n",
            "TransformerModel                              --                        --\n",
            "├─Linear: 1-1                                 [2, 16, 64]               3,200\n",
            "├─TransformerEncoder: 1-2                     [2, 16, 64]               --\n",
            "│    └─ModuleList: 2                          --                        --\n",
            "│    │    └─TransformerEncoderLayer: 3-1      [2, 16, 64]               25,216\n",
            "│    │    └─TransformerEncoderLayer: 3-2      [2, 16, 64]               25,216\n",
            "│    │    └─TransformerEncoderLayer: 3-3      [2, 16, 64]               25,216\n",
            "├─Linear: 1-3                                 [2, 10]                   650\n",
            "===============================================================================================\n",
            "Total params: 79,498\n",
            "Trainable params: 79,498\n",
            "Non-trainable params: 0\n",
            "Total mult-adds (M): 0.06\n",
            "===============================================================================================\n",
            "Input size (MB): 0.01\n",
            "Forward/backward pass size (MB): 0.21\n",
            "Params size (MB): 0.32\n",
            "Estimated Total Size (MB): 0.54\n",
            "===============================================================================================\n"
          ],
          "name": "stdout"
        }
      ]
    },
    {
      "cell_type": "code",
      "metadata": {
        "colab": {
          "base_uri": "https://localhost:8080/"
        },
        "id": "DtgnL73617jp",
        "outputId": "6b177b5f-7004-4c94-e972-af9a93da559a"
      },
      "source": [
        "for epoch in range(max_epoch):\n",
        "    model.train()\n",
        "    for i, (images, labels) in tqdm(\n",
        "        enumerate(train_dataloader),\n",
        "        desc=f'Train {epoch}/{max_epoch-1}',\n",
        "        total=len(train_dataloader),\n",
        "    ):\n",
        "        images = images.to(device)\n",
        "        labels = labels.to(device)\n",
        "\n",
        "        outputs = model(images)\n",
        "        loss = F.cross_entropy(outputs, labels, reduction='mean')\n",
        "\n",
        "        optimizer.zero_grad()\n",
        "        loss.backward()\n",
        "        optimizer.step()\n",
        "\n",
        "        accuracy = (outputs.max(1)[1] == labels).float().mean().item()\n",
        "\n",
        "        writer.add_scalar('metrics/train_loss', loss.item(), n_iter)\n",
        "        writer.add_scalar('metrics/train_accuracy', accuracy, n_iter)\n",
        "\n",
        "        n_iter += 1\n",
        "\n",
        "    model.eval()\n",
        "\n",
        "    loss = 0.0\n",
        "    correct = 0\n",
        "    total = 0\n",
        "    with torch.no_grad():\n",
        "        for (images, labels) in tqdm(\n",
        "            test_dataloader,\n",
        "            desc=f'Test {epoch}/{max_epoch-1}',\n",
        "            total=len(test_dataloader),\n",
        "        ):\n",
        "            images = images.to(device)\n",
        "            labels = labels.to(device)\n",
        "\n",
        "            outputs = model(images)\n",
        "\n",
        "            loss += F.cross_entropy(outputs, labels, reduction='sum').item()\n",
        "            correct += (outputs.max(1)[1] == labels).sum().item()\n",
        "            total += len(labels)\n",
        "\n",
        "        loss /= total\n",
        "        accuracy = correct / total\n",
        "\n",
        "        writer.add_scalar('metrics/test_loss', loss, n_iter)\n",
        "        writer.add_scalar('metrics/test_accuracy', accuracy, n_iter)\n",
        "\n",
        "    torch.save(model.state_dict(), log_dir / f'epoch{epoch:05}.pt')"
      ],
      "execution_count": 55,
      "outputs": [
        {
          "output_type": "stream",
          "text": [
            "Train 0/29: 100%|██████████| 938/938 [00:13<00:00, 68.75it/s]\n",
            "Test 0/29: 100%|██████████| 157/157 [00:01<00:00, 129.01it/s]\n",
            "Train 1/29: 100%|██████████| 938/938 [00:13<00:00, 68.61it/s]\n",
            "Test 1/29: 100%|██████████| 157/157 [00:01<00:00, 126.04it/s]\n",
            "Train 2/29: 100%|██████████| 938/938 [00:13<00:00, 67.87it/s]\n",
            "Test 2/29: 100%|██████████| 157/157 [00:01<00:00, 124.99it/s]\n",
            "Train 3/29: 100%|██████████| 938/938 [00:13<00:00, 68.18it/s]\n",
            "Test 3/29: 100%|██████████| 157/157 [00:01<00:00, 126.34it/s]\n",
            "Train 4/29: 100%|██████████| 938/938 [00:13<00:00, 68.32it/s]\n",
            "Test 4/29: 100%|██████████| 157/157 [00:01<00:00, 127.42it/s]\n",
            "Train 5/29: 100%|██████████| 938/938 [00:13<00:00, 67.96it/s]\n",
            "Test 5/29: 100%|██████████| 157/157 [00:01<00:00, 126.04it/s]\n",
            "Train 6/29: 100%|██████████| 938/938 [00:13<00:00, 68.83it/s]\n",
            "Test 6/29: 100%|██████████| 157/157 [00:01<00:00, 123.32it/s]\n",
            "Train 7/29: 100%|██████████| 938/938 [00:13<00:00, 67.98it/s]\n",
            "Test 7/29: 100%|██████████| 157/157 [00:01<00:00, 126.12it/s]\n",
            "Train 8/29: 100%|██████████| 938/938 [00:13<00:00, 67.77it/s]\n",
            "Test 8/29: 100%|██████████| 157/157 [00:01<00:00, 126.64it/s]\n",
            "Train 9/29: 100%|██████████| 938/938 [00:13<00:00, 67.91it/s]\n",
            "Test 9/29: 100%|██████████| 157/157 [00:01<00:00, 126.52it/s]\n",
            "Train 10/29: 100%|██████████| 938/938 [00:13<00:00, 68.12it/s]\n",
            "Test 10/29: 100%|██████████| 157/157 [00:01<00:00, 123.24it/s]\n",
            "Train 11/29: 100%|██████████| 938/938 [00:13<00:00, 68.00it/s]\n",
            "Test 11/29: 100%|██████████| 157/157 [00:01<00:00, 125.54it/s]\n",
            "Train 12/29: 100%|██████████| 938/938 [00:13<00:00, 68.15it/s]\n",
            "Test 12/29: 100%|██████████| 157/157 [00:01<00:00, 126.11it/s]\n",
            "Train 13/29: 100%|██████████| 938/938 [00:13<00:00, 67.20it/s]\n",
            "Test 13/29: 100%|██████████| 157/157 [00:01<00:00, 123.41it/s]\n",
            "Train 14/29: 100%|██████████| 938/938 [00:13<00:00, 67.36it/s]\n",
            "Test 14/29: 100%|██████████| 157/157 [00:01<00:00, 124.32it/s]\n",
            "Train 15/29: 100%|██████████| 938/938 [00:13<00:00, 67.19it/s]\n",
            "Test 15/29: 100%|██████████| 157/157 [00:01<00:00, 123.65it/s]\n",
            "Train 16/29: 100%|██████████| 938/938 [00:13<00:00, 67.33it/s]\n",
            "Test 16/29: 100%|██████████| 157/157 [00:01<00:00, 124.34it/s]\n",
            "Train 17/29: 100%|██████████| 938/938 [00:13<00:00, 67.51it/s]\n",
            "Test 17/29: 100%|██████████| 157/157 [00:01<00:00, 125.61it/s]\n",
            "Train 18/29: 100%|██████████| 938/938 [00:14<00:00, 66.18it/s]\n",
            "Test 18/29: 100%|██████████| 157/157 [00:01<00:00, 123.89it/s]\n",
            "Train 19/29: 100%|██████████| 938/938 [00:14<00:00, 66.27it/s]\n",
            "Test 19/29: 100%|██████████| 157/157 [00:01<00:00, 123.51it/s]\n",
            "Train 20/29: 100%|██████████| 938/938 [00:14<00:00, 66.49it/s]\n",
            "Test 20/29: 100%|██████████| 157/157 [00:01<00:00, 123.18it/s]\n",
            "Train 21/29: 100%|██████████| 938/938 [00:14<00:00, 66.92it/s]\n",
            "Test 21/29: 100%|██████████| 157/157 [00:01<00:00, 124.55it/s]\n",
            "Train 22/29: 100%|██████████| 938/938 [00:14<00:00, 66.22it/s]\n",
            "Test 22/29: 100%|██████████| 157/157 [00:01<00:00, 122.66it/s]\n",
            "Train 23/29: 100%|██████████| 938/938 [00:13<00:00, 67.24it/s]\n",
            "Test 23/29: 100%|██████████| 157/157 [00:01<00:00, 123.97it/s]\n",
            "Train 24/29: 100%|██████████| 938/938 [00:14<00:00, 66.50it/s]\n",
            "Test 24/29: 100%|██████████| 157/157 [00:01<00:00, 123.16it/s]\n",
            "Train 25/29: 100%|██████████| 938/938 [00:13<00:00, 68.60it/s]\n",
            "Test 25/29: 100%|██████████| 157/157 [00:01<00:00, 126.19it/s]\n",
            "Train 26/29: 100%|██████████| 938/938 [00:13<00:00, 69.19it/s]\n",
            "Test 26/29: 100%|██████████| 157/157 [00:01<00:00, 122.62it/s]\n",
            "Train 27/29: 100%|██████████| 938/938 [00:13<00:00, 67.92it/s]\n",
            "Test 27/29: 100%|██████████| 157/157 [00:01<00:00, 124.88it/s]\n",
            "Train 28/29: 100%|██████████| 938/938 [00:13<00:00, 68.54it/s]\n",
            "Test 28/29: 100%|██████████| 157/157 [00:01<00:00, 116.63it/s]\n",
            "Train 29/29: 100%|██████████| 938/938 [00:13<00:00, 68.08it/s]\n",
            "Test 29/29: 100%|██████████| 157/157 [00:01<00:00, 126.77it/s]\n"
          ],
          "name": "stderr"
        }
      ]
    },
    {
      "cell_type": "code",
      "metadata": {
        "colab": {
          "base_uri": "https://localhost:8080/",
          "height": 1000
        },
        "id": "DbC9uhwB2EYH",
        "outputId": "96661a02-5202-4473-c4fc-9ae76eccad71"
      },
      "source": [
        "from torchvision.transforms.functional import to_pil_image\n",
        "from torchvision.utils import make_grid\n",
        "\n",
        "\n",
        "for index in range(20):\n",
        "    print(index)\n",
        "    image, label = test_dataset[index]\n",
        "    image = image.to(device)\n",
        "\n",
        "    display(to_pil_image(image))\n",
        "\n",
        "    patches = model.unfold_patch(image[None])[0]\n",
        "    display(to_pil_image(make_grid(patches, nrow=model.num_patches, pad_value=0.5)))\n",
        "\n",
        "    output_prob = model(image[None])[0].softmax(0)\n",
        "\n",
        "    print([float(f'{i:.3}') for i in output_prob.tolist()])\n",
        "    print(output_prob.argmax().item())\n",
        "\n",
        "    print()"
      ],
      "execution_count": 66,
      "outputs": [
        {
          "output_type": "stream",
          "text": [
            "0\n"
          ],
          "name": "stdout"
        },
        {
          "output_type": "display_data",
          "data": {
            "image/png": "[encoded data removed]",
            "text/plain": [
              "<PIL.Image.Image image mode=L size=28x28 at 0x7F1911FF9B10>"
            ]
          },
          "metadata": {
            "tags": []
          }
        },
        {
          "output_type": "display_data",
          "data": {
            "image/png": "[encoded data removed]",
            "text/plain": [
              "<PIL.Image.Image image mode=RGB size=146x11 at 0x7F1911FF9B10>"
            ]
          },
          "metadata": {
            "tags": []
          }
        },
        {
          "output_type": "stream",
          "text": [
            "[0.0104, 0.00368, 0.00379, 0.0135, 0.00373, 0.0267, 8.56e-05, 0.907, 0.00358, 0.028]\n",
            "7\n",
            "\n",
            "1\n"
          ],
          "name": "stdout"
        },
        {
          "output_type": "display_data",
          "data": {
            "image/png": "[encoded data removed]",
            "text/plain": [
              "<PIL.Image.Image image mode=L size=28x28 at 0x7F1911FF9C10>"
            ]
          },
          "metadata": {
            "tags": []
          }
        },
        {
          "output_type": "display_data",
          "data": {
            "image/png": "[encoded data removed]",
            "text/plain": [
              "<PIL.Image.Image image mode=RGB size=146x11 at 0x7F1911FF9C50>"
            ]
          },
          "metadata": {
            "tags": []
          }
        },
        {
          "output_type": "stream",
          "text": [
            "[0.00264, 0.000456, 0.863, 0.000304, 0.000432, 0.00658, 0.127, 6.81e-05, 3.03e-05, 1.83e-05]\n",
            "2\n",
            "\n",
            "2\n"
          ],
          "name": "stdout"
        },
        {
          "output_type": "display_data",
          "data": {
            "image/png": "[encoded data removed]",
            "text/plain": [
              "<PIL.Image.Image image mode=L size=28x28 at 0x7F1919519210>"
            ]
          },
          "metadata": {
            "tags": []
          }
        },
        {
          "output_type": "display_data",
          "data": {
            "image/png": "[encoded data removed]",
            "text/plain": [
              "<PIL.Image.Image image mode=RGB size=146x11 at 0x7F1912004990>"
            ]
          },
          "metadata": {
            "tags": []
          }
        },
        {
          "output_type": "stream",
          "text": [
            "[0.000757, 0.678, 0.00136, 0.00509, 0.0447, 0.00327, 0.000977, 0.222, 0.000126, 0.044]\n",
            "1\n",
            "\n",
            "3\n"
          ],
          "name": "stdout"
        },
        {
          "output_type": "display_data",
          "data": {
            "image/png": "[encoded data removed]",
            "text/plain": [
              "<PIL.Image.Image image mode=L size=28x28 at 0x7F1911FF9350>"
            ]
          },
          "metadata": {
            "tags": []
          }
        },
        {
          "output_type": "display_data",
          "data": {
            "image/png": "[encoded data removed]",
            "text/plain": [
              "<PIL.Image.Image image mode=RGB size=146x11 at 0x7F19120EA4D0>"
            ]
          },
          "metadata": {
            "tags": []
          }
        },
        {
          "output_type": "stream",
          "text": [
            "[0.00307, 0.0437, 0.03, 0.00463, 0.9, 0.000427, 0.00219, 0.000487, 0.0132, 0.0026]\n",
            "4\n",
            "\n",
            "4\n"
          ],
          "name": "stdout"
        },
        {
          "output_type": "display_data",
          "data": {
            "image/png": "[encoded data removed]",
            "text/plain": [
              "<PIL.Image.Image image mode=L size=28x28 at 0x7F1911FF9810>"
            ]
          },
          "metadata": {
            "tags": []
          }
        },
        {
          "output_type": "display_data",
          "data": {
            "image/png": "[encoded data removed]",
            "text/plain": [
              "<PIL.Image.Image image mode=RGB size=146x11 at 0x7F1911FF9150>"
            ]
          },
          "metadata": {
            "tags": []
          }
        },
        {
          "output_type": "stream",
          "text": [
            "[0.0106, 0.0051, 0.0491, 0.000345, 0.13, 0.000241, 0.000145, 0.755, 0.00251, 0.0471]\n",
            "7\n",
            "\n",
            "5\n"
          ],
          "name": "stdout"
        },
        {
          "output_type": "display_data",
          "data": {
            "image/png": "[encoded data removed]",
            "text/plain": [
              "<PIL.Image.Image image mode=L size=28x28 at 0x7F1911FF9C10>"
            ]
          },
          "metadata": {
            "tags": []
          }
        },
        {
          "output_type": "display_data",
          "data": {
            "image/png": "[encoded data removed]",
            "text/plain": [
              "<PIL.Image.Image image mode=RGB size=146x11 at 0x7F1911FF9C10>"
            ]
          },
          "metadata": {
            "tags": []
          }
        },
        {
          "output_type": "stream",
          "text": [
            "[0.000488, 0.141, 0.00124, 0.00449, 0.059, 0.00142, 6.46e-05, 0.752, 0.00016, 0.0398]\n",
            "7\n",
            "\n",
            "6\n"
          ],
          "name": "stdout"
        },
        {
          "output_type": "display_data",
          "data": {
            "image/png": "[encoded data removed]",
            "text/plain": [
              "<PIL.Image.Image image mode=L size=28x28 at 0x7F1911FF9C10>"
            ]
          },
          "metadata": {
            "tags": []
          }
        },
        {
          "output_type": "display_data",
          "data": {
            "image/png": "[encoded data removed]",
            "text/plain": [
              "<PIL.Image.Image image mode=RGB size=146x11 at 0x7F1911FF9CD0>"
            ]
          },
          "metadata": {
            "tags": []
          }
        },
        {
          "output_type": "stream",
          "text": [
            "[4.31e-05, 0.00551, 0.0284, 0.00782, 0.921, 0.000372, 0.0001, 0.000458, 0.0139, 0.0223]\n",
            "4\n",
            "\n",
            "7\n"
          ],
          "name": "stdout"
        },
        {
          "output_type": "display_data",
          "data": {
            "image/png": "[encoded data removed]",
            "text/plain": [
              "<PIL.Image.Image image mode=L size=28x28 at 0x7F1919519BD0>"
            ]
          },
          "metadata": {
            "tags": []
          }
        },
        {
          "output_type": "display_data",
          "data": {
            "image/png": "[encoded data removed]",
            "text/plain": [
              "<PIL.Image.Image image mode=RGB size=146x11 at 0x7F1911FF9CD0>"
            ]
          },
          "metadata": {
            "tags": []
          }
        },
        {
          "output_type": "stream",
          "text": [
            "[0.00628, 0.000853, 0.0385, 0.000245, 0.00406, 0.000167, 1.14e-05, 0.946, 0.000453, 0.00329]\n",
            "7\n",
            "\n",
            "8\n"
          ],
          "name": "stdout"
        },
        {
          "output_type": "display_data",
          "data": {
            "image/png": "[encoded data removed]",
            "text/plain": [
              "<PIL.Image.Image image mode=L size=28x28 at 0x7F1911FF9350>"
            ]
          },
          "metadata": {
            "tags": []
          }
        },
        {
          "output_type": "display_data",
          "data": {
            "image/png": "[encoded data removed]",
            "text/plain": [
              "<PIL.Image.Image image mode=RGB size=146x11 at 0x7F19120EA550>"
            ]
          },
          "metadata": {
            "tags": []
          }
        },
        {
          "output_type": "stream",
          "text": [
            "[0.000368, 0.000167, 0.954, 0.000193, 0.00854, 0.0157, 0.0201, 4.63e-05, 0.000704, 4.13e-05]\n",
            "2\n",
            "\n",
            "9\n"
          ],
          "name": "stdout"
        },
        {
          "output_type": "display_data",
          "data": {
            "image/png": "[encoded data removed]",
            "text/plain": [
              "<PIL.Image.Image image mode=L size=28x28 at 0x7F1919519590>"
            ]
          },
          "metadata": {
            "tags": []
          }
        },
        {
          "output_type": "display_data",
          "data": {
            "image/png": "[encoded data removed]",
            "text/plain": [
              "<PIL.Image.Image image mode=RGB size=146x11 at 0x7F1919519890>"
            ]
          },
          "metadata": {
            "tags": []
          }
        },
        {
          "output_type": "stream",
          "text": [
            "[0.00366, 0.00153, 0.612, 0.00276, 0.00412, 0.000382, 0.000522, 0.331, 0.0132, 0.0302]\n",
            "2\n",
            "\n",
            "10\n"
          ],
          "name": "stdout"
        },
        {
          "output_type": "display_data",
          "data": {
            "image/png": "[encoded data removed]",
            "text/plain": [
              "<PIL.Image.Image image mode=L size=28x28 at 0x7F1919519210>"
            ]
          },
          "metadata": {
            "tags": []
          }
        },
        {
          "output_type": "display_data",
          "data": {
            "image/png": "[encoded data removed]",
            "text/plain": [
              "<PIL.Image.Image image mode=RGB size=146x11 at 0x7F1919519210>"
            ]
          },
          "metadata": {
            "tags": []
          }
        },
        {
          "output_type": "stream",
          "text": [
            "[0.00422, 0.0773, 0.0776, 0.0645, 0.465, 0.121, 0.000876, 0.179, 0.00137, 0.00884]\n",
            "4\n",
            "\n",
            "11\n"
          ],
          "name": "stdout"
        },
        {
          "output_type": "display_data",
          "data": {
            "image/png": "[encoded data removed]",
            "text/plain": [
              "<PIL.Image.Image image mode=L size=28x28 at 0x7F1919519A50>"
            ]
          },
          "metadata": {
            "tags": []
          }
        },
        {
          "output_type": "display_data",
          "data": {
            "image/png": "[encoded data removed]",
            "text/plain": [
              "<PIL.Image.Image image mode=RGB size=146x11 at 0x7F1919519A50>"
            ]
          },
          "metadata": {
            "tags": []
          }
        },
        {
          "output_type": "stream",
          "text": [
            "[0.0579, 0.0141, 0.159, 3.22e-05, 0.0202, 0.000294, 0.744, 0.000212, 0.00356, 0.000188]\n",
            "6\n",
            "\n",
            "12\n"
          ],
          "name": "stdout"
        },
        {
          "output_type": "display_data",
          "data": {
            "image/png": "[encoded data removed]",
            "text/plain": [
              "<PIL.Image.Image image mode=L size=28x28 at 0x7F1919519ED0>"
            ]
          },
          "metadata": {
            "tags": []
          }
        },
        {
          "output_type": "display_data",
          "data": {
            "image/png": "[encoded data removed]",
            "text/plain": [
              "<PIL.Image.Image image mode=RGB size=146x11 at 0x7F1919519FD0>"
            ]
          },
          "metadata": {
            "tags": []
          }
        },
        {
          "output_type": "stream",
          "text": [
            "[0.00179, 5.56e-05, 0.00244, 0.000318, 0.000932, 1.47e-05, 1.26e-06, 0.933, 0.00038, 0.0612]\n",
            "7\n",
            "\n",
            "13\n"
          ],
          "name": "stdout"
        },
        {
          "output_type": "display_data",
          "data": {
            "image/png": "[encoded data removed]",
            "text/plain": [
              "<PIL.Image.Image image mode=L size=28x28 at 0x7F1919519510>"
            ]
          },
          "metadata": {
            "tags": []
          }
        },
        {
          "output_type": "display_data",
          "data": {
            "image/png": "[encoded data removed]",
            "text/plain": [
              "<PIL.Image.Image image mode=RGB size=146x11 at 0x7F1919519750>"
            ]
          },
          "metadata": {
            "tags": []
          }
        },
        {
          "output_type": "stream",
          "text": [
            "[0.00221, 0.00179, 0.0516, 0.0282, 0.245, 0.00718, 0.000108, 0.478, 0.0149, 0.171]\n",
            "7\n",
            "\n",
            "14\n"
          ],
          "name": "stdout"
        },
        {
          "output_type": "display_data",
          "data": {
            "image/png": "[encoded data removed]",
            "text/plain": [
              "<PIL.Image.Image image mode=L size=28x28 at 0x7F1915265B50>"
            ]
          },
          "metadata": {
            "tags": []
          }
        },
        {
          "output_type": "display_data",
          "data": {
            "image/png": "[encoded data removed]",
            "text/plain": [
              "<PIL.Image.Image image mode=RGB size=146x11 at 0x7F19D88C15D0>"
            ]
          },
          "metadata": {
            "tags": []
          }
        },
        {
          "output_type": "stream",
          "text": [
            "[6.63e-05, 0.0619, 0.0142, 0.00633, 0.891, 0.00931, 0.00249, 0.00319, 0.000932, 0.0107]\n",
            "4\n",
            "\n",
            "15\n"
          ],
          "name": "stdout"
        },
        {
          "output_type": "display_data",
          "data": {
            "image/png": "[encoded data removed]",
            "text/plain": [
              "<PIL.Image.Image image mode=L size=28x28 at 0x7F19D88C1710>"
            ]
          },
          "metadata": {
            "tags": []
          }
        },
        {
          "output_type": "display_data",
          "data": {
            "image/png": "[encoded data removed]",
            "text/plain": [
              "<PIL.Image.Image image mode=RGB size=146x11 at 0x7F191952A8D0>"
            ]
          },
          "metadata": {
            "tags": []
          }
        },
        {
          "output_type": "stream",
          "text": [
            "[0.000862, 7.25e-05, 0.134, 0.0651, 0.00499, 0.782, 0.00156, 0.00188, 0.00822, 0.00151]\n",
            "5\n",
            "\n",
            "16\n"
          ],
          "name": "stdout"
        },
        {
          "output_type": "display_data",
          "data": {
            "image/png": "[encoded data removed]",
            "text/plain": [
              "<PIL.Image.Image image mode=L size=28x28 at 0x7F1915265BD0>"
            ]
          },
          "metadata": {
            "tags": []
          }
        },
        {
          "output_type": "display_data",
          "data": {
            "image/png": "[encoded data removed]",
            "text/plain": [
              "<PIL.Image.Image image mode=RGB size=146x11 at 0x7F19D88C1710>"
            ]
          },
          "metadata": {
            "tags": []
          }
        },
        {
          "output_type": "stream",
          "text": [
            "[0.00025, 1.82e-05, 0.0548, 0.00043, 0.00434, 4.55e-06, 8.32e-06, 0.143, 0.0322, 0.765]\n",
            "9\n",
            "\n",
            "17\n"
          ],
          "name": "stdout"
        },
        {
          "output_type": "display_data",
          "data": {
            "image/png": "[encoded data removed]",
            "text/plain": [
              "<PIL.Image.Image image mode=L size=28x28 at 0x7F1915265B50>"
            ]
          },
          "metadata": {
            "tags": []
          }
        },
        {
          "output_type": "display_data",
          "data": {
            "image/png": "[encoded data removed]",
            "text/plain": [
              "<PIL.Image.Image image mode=RGB size=146x11 at 0x7F191950CC50>"
            ]
          },
          "metadata": {
            "tags": []
          }
        },
        {
          "output_type": "stream",
          "text": [
            "[0.00915, 0.008, 0.0123, 0.00268, 0.122, 0.00985, 0.000611, 0.792, 0.0037, 0.0404]\n",
            "7\n",
            "\n",
            "18\n"
          ],
          "name": "stdout"
        },
        {
          "output_type": "display_data",
          "data": {
            "image/png": "[encoded data removed]",
            "text/plain": [
              "<PIL.Image.Image image mode=L size=28x28 at 0x7F1919518ED0>"
            ]
          },
          "metadata": {
            "tags": []
          }
        },
        {
          "output_type": "display_data",
          "data": {
            "image/png": "[encoded data removed]",
            "text/plain": [
              "<PIL.Image.Image image mode=RGB size=146x11 at 0x7F1919518ED0>"
            ]
          },
          "metadata": {
            "tags": []
          }
        },
        {
          "output_type": "stream",
          "text": [
            "[0.000183, 7.29e-05, 0.294, 0.0368, 0.0281, 0.597, 0.0287, 5.51e-06, 0.0147, 0.0007]\n",
            "5\n",
            "\n",
            "19\n"
          ],
          "name": "stdout"
        },
        {
          "output_type": "display_data",
          "data": {
            "image/png": "[encoded data removed]",
            "text/plain": [
              "<PIL.Image.Image image mode=L size=28x28 at 0x7F191200AE90>"
            ]
          },
          "metadata": {
            "tags": []
          }
        },
        {
          "output_type": "display_data",
          "data": {
            "image/png": "[encoded data removed]",
            "text/plain": [
              "<PIL.Image.Image image mode=RGB size=146x11 at 0x7F1911FF9D10>"
            ]
          },
          "metadata": {
            "tags": []
          }
        },
        {
          "output_type": "stream",
          "text": [
            "[0.00176, 0.00462, 0.0036, 0.002, 0.000604, 9.02e-05, 5.98e-07, 0.965, 0.000134, 0.0223]\n",
            "7\n",
            "\n"
          ],
          "name": "stdout"
        }
      ]
    }
  ]
}