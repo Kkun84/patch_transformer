{
 "metadata": {
  "orig_nbformat": 2,
  "kernelspec": {
   "name": "python3",
   "display_name": "Python 3",
   "language": "python"
  }
 },
 "nbformat": 4,
 "nbformat_minor": 2,
 "cells": [
  {
   "source": [
    "attentionの可視化をするコードを追記する予定です"
   ],
   "cell_type": "markdown",
   "metadata": {}
  },
  {
   "cell_type": "code",
   "execution_count": 1,
   "metadata": {},
   "outputs": [],
   "source": [
    "target_model_dir_ = 'runs/Jun03_14-52-17_99986f60c588'"
   ]
  },
  {
   "cell_type": "code",
   "execution_count": 2,
   "metadata": {},
   "outputs": [],
   "source": [
    "from pathlib import Path\n",
    "\n",
    "target_model_dir = Path('..', target_model_dir_)\n",
    "target_model_dir = target_model_dir.resolve()\n",
    "assert target_model_dir.is_dir(), target_model_dir"
   ]
  },
  {
   "cell_type": "code",
   "execution_count": 3,
   "metadata": {},
   "outputs": [],
   "source": [
    "import sys\n",
    "\n",
    "path = str(target_model_dir / 'src')\n",
    "if path not in sys.path:\n",
    "    sys.path.insert(0, path)\n",
    "\n",
    "del sys"
   ]
  },
  {
   "cell_type": "code",
   "execution_count": 4,
   "metadata": {},
   "outputs": [],
   "source": [
    "import torch\n",
    "import torchvision.transforms as transforms\n",
    "from torchvision.datasets import MNIST\n",
    "from torchvision.transforms.functional import to_pil_image, to_tensor\n",
    "from torchvision.utils import make_grid\n",
    "from torchinfo import summary\n",
    "\n",
    "from IPython.display import display"
   ]
  },
  {
   "cell_type": "code",
   "execution_count": 5,
   "metadata": {},
   "outputs": [
    {
     "output_type": "execute_result",
     "data": {
      "text/plain": [
       "===============================================================================================\n",
       "Layer (type:depth-idx)                        Output Shape              Param #\n",
       "===============================================================================================\n",
       "TransformerModel                              --                        --\n",
       "├─Linear: 1-1                                 [2, 16, 64]               3,200\n",
       "├─TransformerEncoder: 1-2                     [2, 16, 64]               --\n",
       "│    └─ModuleList: 2                          --                        --\n",
       "│    │    └─TransformerEncoderLayer: 3-1      [2, 16, 64]               25,216\n",
       "│    │    └─TransformerEncoderLayer: 3-2      [2, 16, 64]               25,216\n",
       "│    │    └─TransformerEncoderLayer: 3-3      [2, 16, 64]               25,216\n",
       "├─Linear: 1-3                                 [2, 10]                   650\n",
       "===============================================================================================\n",
       "Total params: 79,498\n",
       "Trainable params: 79,498\n",
       "Non-trainable params: 0\n",
       "Total mult-adds (M): 0.06\n",
       "===============================================================================================\n",
       "Input size (MB): 0.01\n",
       "Forward/backward pass size (MB): 0.21\n",
       "Params size (MB): 0.32\n",
       "Estimated Total Size (MB): 0.54\n",
       "==============================================================================================="
      ]
     },
     "metadata": {},
     "execution_count": 5
    }
   ],
   "source": [
    "from model.model import TransformerModel\n",
    "\n",
    "model = TransformerModel()\n",
    "model.eval()\n",
    "\n",
    "summary(model, (2, *model.input_shape), device='cpu')"
   ]
  },
  {
   "cell_type": "code",
   "execution_count": 6,
   "metadata": {},
   "outputs": [
    {
     "output_type": "stream",
     "name": "stdout",
     "text": [
      "/workspace/runs/Jun03_14-52-17_99986f60c588/epoch00029.pt\n"
     ]
    },
    {
     "output_type": "execute_result",
     "data": {
      "text/plain": [
       "<All keys matched successfully>"
      ]
     },
     "metadata": {},
     "execution_count": 6
    }
   ],
   "source": [
    "weight_path = sorted(target_model_dir.glob('*.pt'))[-1]\n",
    "print(weight_path)\n",
    "\n",
    "model.load_state_dict(torch.load(weight_path))"
   ]
  },
  {
   "cell_type": "code",
   "execution_count": 7,
   "metadata": {},
   "outputs": [],
   "source": [
    "transform = transforms.Compose([transforms.ToTensor()])\n",
    "dataset = MNIST(root='../data', train=False, download=False, transform=transform)"
   ]
  },
  {
   "cell_type": "code",
   "execution_count": 8,
   "metadata": {},
   "outputs": [
    {
     "output_type": "stream",
     "name": "stdout",
     "text": [
      "0\n"
     ]
    },
    {
     "output_type": "display_data",
     "data": {
      "text/plain": "<PIL.Image.Image image mode=L size=28x28 at 0x7FCEF923D5B0>",
      "image/png": "[encoded data removed]"
     },
     "metadata": {}
    },
    {
     "output_type": "display_data",
     "data": {
      "text/plain": "<PIL.Image.Image image mode=RGB size=146x11 at 0x7FCEF0AF8CD0>",
      "image/png": "[encoded data removed]"
     },
     "metadata": {}
    },
    {
     "output_type": "stream",
     "name": "stdout",
     "text": [
      "[0.004493934102356434, 0.05076932907104492, 0.018564721569418907, 0.002767853671684861, 0.01326053962111473, 0.014602843672037125, 0.00039116654079407454, 0.799828827381134, 0.0628809854388237, 0.03243980184197426]\ntensor(7)\n\n1\n"
     ]
    },
    {
     "output_type": "display_data",
     "data": {
      "text/plain": "<PIL.Image.Image image mode=L size=28x28 at 0x7FCEF9246F70>",
      "image/png": "[encoded data removed]"
     },
     "metadata": {}
    },
    {
     "output_type": "display_data",
     "data": {
      "text/plain": "<PIL.Image.Image image mode=RGB size=146x11 at 0x7FCEF9246A30>",
      "image/png": "[encoded data removed]"
     },
     "metadata": {}
    },
    {
     "output_type": "stream",
     "name": "stdout",
     "text": [
      "[0.0003057601279579103, 0.004064821172505617, 0.3416615426540375, 0.03231873735785484, 0.00042588802170939744, 0.503757119178772, 0.0001153868215624243, 0.11243999749422073, 0.0040403869934380054, 0.0008704166393727064]\ntensor(5)\n\n2\n"
     ]
    },
    {
     "output_type": "display_data",
     "data": {
      "text/plain": "<PIL.Image.Image image mode=L size=28x28 at 0x7FCEF0A88940>",
      "image/png": "[encoded data removed]"
     },
     "metadata": {}
    },
    {
     "output_type": "display_data",
     "data": {
      "text/plain": "<PIL.Image.Image image mode=RGB size=146x11 at 0x7FCEF9246DC0>",
      "image/png": "[encoded data removed]"
     },
     "metadata": {}
    },
    {
     "output_type": "stream",
     "name": "stdout",
     "text": [
      "[0.0010110553121194243, 0.8871234059333801, 0.01853550784289837, 0.0001016608948702924, 0.0035742921754717827, 0.00030907473410479724, 0.0003630402497947216, 0.08735601603984833, 0.00012114025594200939, 0.001504821004346013]\ntensor(1)\n\n3\n"
     ]
    },
    {
     "output_type": "display_data",
     "data": {
      "text/plain": "<PIL.Image.Image image mode=L size=28x28 at 0x7FCEF9246B80>",
      "image/png": "[encoded data removed]"
     },
     "metadata": {}
    },
    {
     "output_type": "display_data",
     "data": {
      "text/plain": "<PIL.Image.Image image mode=RGB size=146x11 at 0x7FCEF0A888B0>",
      "image/png": "[encoded data removed]"
     },
     "metadata": {}
    },
    {
     "output_type": "stream",
     "name": "stdout",
     "text": [
      "[0.008517214097082615, 0.39745986461639404, 0.017152957618236542, 0.000839269021525979, 0.1997540444135666, 0.009455758146941662, 0.05477270856499672, 0.24950018525123596, 0.02526239864528179, 0.03728560730814934]\ntensor(1)\n\n4\n"
     ]
    },
    {
     "output_type": "display_data",
     "data": {
      "text/plain": "<PIL.Image.Image image mode=L size=28x28 at 0x7FCEF9246B20>",
      "image/png": "[encoded data removed]"
     },
     "metadata": {}
    },
    {
     "output_type": "display_data",
     "data": {
      "text/plain": "<PIL.Image.Image image mode=RGB size=146x11 at 0x7FCEF0AF8CD0>",
      "image/png": "[encoded data removed]"
     },
     "metadata": {}
    },
    {
     "output_type": "stream",
     "name": "stdout",
     "text": [
      "[0.009865397587418556, 0.1709216684103012, 0.05430402234196663, 0.0009136873995885253, 0.06630285084247589, 0.0035201560240238905, 0.0004394254938233644, 0.6297977566719055, 0.008661321364343166, 0.055273693054914474]\ntensor(7)\n\n5\n"
     ]
    },
    {
     "output_type": "display_data",
     "data": {
      "text/plain": "<PIL.Image.Image image mode=L size=28x28 at 0x7FCEF9246B80>",
      "image/png": "[encoded data removed]"
     },
     "metadata": {}
    },
    {
     "output_type": "display_data",
     "data": {
      "text/plain": "<PIL.Image.Image image mode=RGB size=146x11 at 0x7FCEF0AF8FA0>",
      "image/png": "[encoded data removed]"
     },
     "metadata": {}
    },
    {
     "output_type": "stream",
     "name": "stdout",
     "text": [
      "[0.0005663888296112418, 0.786400318145752, 0.013314709067344666, 0.0005287015810608864, 0.0203501358628273, 0.003610532497987151, 0.00012905531912110746, 0.16285791993141174, 0.00018454596283845603, 0.012057619169354439]\ntensor(1)\n\n6\n"
     ]
    },
    {
     "output_type": "display_data",
     "data": {
      "text/plain": "<PIL.Image.Image image mode=L size=28x28 at 0x7FCEF9246B50>",
      "image/png": "[encoded data removed]"
     },
     "metadata": {}
    },
    {
     "output_type": "display_data",
     "data": {
      "text/plain": "<PIL.Image.Image image mode=RGB size=146x11 at 0x7FCEF0AF8FA0>",
      "image/png": "[encoded data removed]"
     },
     "metadata": {}
    },
    {
     "output_type": "stream",
     "name": "stdout",
     "text": [
      "[0.00040574831655249, 0.6201207041740417, 0.051193393766880035, 8.038721716729924e-05, 0.17234888672828674, 0.005556019954383373, 0.0010420995531603694, 0.1468169242143631, 0.0020074835047125816, 0.00042839362868107855]\ntensor(1)\n\n7\n"
     ]
    },
    {
     "output_type": "display_data",
     "data": {
      "text/plain": "<PIL.Image.Image image mode=L size=28x28 at 0x7FCEF0AF8FA0>",
      "image/png": "[encoded data removed]"
     },
     "metadata": {}
    },
    {
     "output_type": "display_data",
     "data": {
      "text/plain": "<PIL.Image.Image image mode=RGB size=146x11 at 0x7FCEF9246F70>",
      "image/png": "[encoded data removed]"
     },
     "metadata": {}
    },
    {
     "output_type": "stream",
     "name": "stdout",
     "text": [
      "[0.0004811751132365316, 0.0010090726427733898, 0.021286865696310997, 0.012256457470357418, 0.01354672946035862, 0.011861762963235378, 1.297351536777569e-05, 0.22767950594425201, 0.004473383538424969, 0.7073919773101807]\ntensor(9)\n\n8\n"
     ]
    },
    {
     "output_type": "display_data",
     "data": {
      "text/plain": "<PIL.Image.Image image mode=L size=28x28 at 0x7FCEF9246F70>",
      "image/png": "[encoded data removed]"
     },
     "metadata": {}
    },
    {
     "output_type": "display_data",
     "data": {
      "text/plain": "<PIL.Image.Image image mode=RGB size=146x11 at 0x7FCEF0AF8FA0>",
      "image/png": "[encoded data removed]"
     },
     "metadata": {}
    },
    {
     "output_type": "stream",
     "name": "stdout",
     "text": [
      "[0.0010567151475697756, 0.019591225311160088, 0.4255090355873108, 0.009265406988561153, 0.0007971462327986956, 0.5172784328460693, 0.0002973599184770137, 0.023109005764126778, 0.0029612649232149124, 0.00013438155292533338]\ntensor(5)\n\n9\n"
     ]
    },
    {
     "output_type": "display_data",
     "data": {
      "text/plain": "<PIL.Image.Image image mode=L size=28x28 at 0x7FCEF0AF8FA0>",
      "image/png": "[encoded data removed]"
     },
     "metadata": {}
    },
    {
     "output_type": "display_data",
     "data": {
      "text/plain": "<PIL.Image.Image image mode=RGB size=146x11 at 0x7FCEF9246B80>",
      "image/png": "[encoded data removed]"
     },
     "metadata": {}
    },
    {
     "output_type": "stream",
     "name": "stdout",
     "text": [
      "[0.0008834332693368196, 0.09473228454589844, 0.10187327861785889, 0.0012409836053848267, 0.008876385167241096, 0.002180377719923854, 0.011253525502979755, 0.5837860107421875, 0.010374779812991619, 0.1847989708185196]\ntensor(7)\n\n10\n"
     ]
    },
    {
     "output_type": "display_data",
     "data": {
      "text/plain": "<PIL.Image.Image image mode=L size=28x28 at 0x7FCEF0AF8CD0>",
      "image/png": "[encoded data removed]"
     },
     "metadata": {}
    },
    {
     "output_type": "display_data",
     "data": {
      "text/plain": "<PIL.Image.Image image mode=RGB size=146x11 at 0x7FCEF0A88940>",
      "image/png": "[encoded data removed]"
     },
     "metadata": {}
    },
    {
     "output_type": "stream",
     "name": "stdout",
     "text": [
      "[0.001056805020198226, 0.007300806697458029, 0.02124844677746296, 0.0008743801154196262, 0.0009730203310027719, 0.14153015613555908, 0.00022206344874575734, 0.8175759315490723, 0.002545421477407217, 0.006672927178442478]\ntensor(7)\n\n11\n"
     ]
    },
    {
     "output_type": "display_data",
     "data": {
      "text/plain": "<PIL.Image.Image image mode=L size=28x28 at 0x7FCEF0AF8FA0>",
      "image/png": "[encoded data removed]"
     },
     "metadata": {}
    },
    {
     "output_type": "display_data",
     "data": {
      "text/plain": "<PIL.Image.Image image mode=RGB size=146x11 at 0x7FCEF9246B80>",
      "image/png": "[encoded data removed]"
     },
     "metadata": {}
    },
    {
     "output_type": "stream",
     "name": "stdout",
     "text": [
      "[0.070533387362957, 0.0048658763989806175, 0.12279609590768814, 0.0007494741585105658, 0.011508421041071415, 0.01945420913398266, 0.648171603679657, 0.059154998511075974, 0.03673456981778145, 0.026031358167529106]\ntensor(6)\n\n12\n"
     ]
    },
    {
     "output_type": "display_data",
     "data": {
      "text/plain": "<PIL.Image.Image image mode=L size=28x28 at 0x7FCEF0AF8CD0>",
      "image/png": "[encoded data removed]"
     },
     "metadata": {}
    },
    {
     "output_type": "display_data",
     "data": {
      "text/plain": "<PIL.Image.Image image mode=RGB size=146x11 at 0x7FCEF0A88940>",
      "image/png": "[encoded data removed]"
     },
     "metadata": {}
    },
    {
     "output_type": "stream",
     "name": "stdout",
     "text": [
      "[4.862540663452819e-06, 5.7055221986956894e-05, 0.0006231939187273383, 9.350191976409405e-05, 0.004187570884823799, 1.0307191587344278e-05, 6.153868525871076e-07, 0.14345960319042206, 0.00014141331485006958, 0.8514218926429749]\ntensor(9)\n\n13\n"
     ]
    },
    {
     "output_type": "display_data",
     "data": {
      "text/plain": "<PIL.Image.Image image mode=L size=28x28 at 0x7FCEF0AF8FA0>",
      "image/png": "[encoded data removed]"
     },
     "metadata": {}
    },
    {
     "output_type": "display_data",
     "data": {
      "text/plain": "<PIL.Image.Image image mode=RGB size=146x11 at 0x7FCEF9246B80>",
      "image/png": "[encoded data removed]"
     },
     "metadata": {}
    },
    {
     "output_type": "stream",
     "name": "stdout",
     "text": [
      "[2.613240042137477e-07, 0.0012257476337254047, 0.000266041315626353, 8.093236829154193e-05, 0.0017470101593062282, 7.525805267505348e-05, 4.826704298466211e-07, 0.9940821528434753, 6.424071671062848e-06, 0.002515647793188691]\ntensor(7)\n\n14\n"
     ]
    },
    {
     "output_type": "display_data",
     "data": {
      "text/plain": "<PIL.Image.Image image mode=L size=28x28 at 0x7FCEF0AF8CD0>",
      "image/png": "[encoded data removed]"
     },
     "metadata": {}
    },
    {
     "output_type": "display_data",
     "data": {
      "text/plain": "<PIL.Image.Image image mode=RGB size=146x11 at 0x7FCEF0AF8FA0>",
      "image/png": "[encoded data removed]"
     },
     "metadata": {}
    },
    {
     "output_type": "stream",
     "name": "stdout",
     "text": [
      "[0.00015726157289464027, 0.2546170651912689, 0.002527654869481921, 2.248411647087778e-06, 0.0005835628253407776, 0.0003481561434455216, 6.55736293992959e-05, 0.7416293621063232, 8.884469025360886e-06, 6.021215085638687e-05]\ntensor(7)\n\n15\n"
     ]
    },
    {
     "output_type": "display_data",
     "data": {
      "text/plain": "<PIL.Image.Image image mode=L size=28x28 at 0x7FCEF9246B80>",
      "image/png": "[encoded data removed]"
     },
     "metadata": {}
    },
    {
     "output_type": "display_data",
     "data": {
      "text/plain": "<PIL.Image.Image image mode=RGB size=146x11 at 0x7FCEF0AF8FA0>",
      "image/png": "[encoded data removed]"
     },
     "metadata": {}
    },
    {
     "output_type": "stream",
     "name": "stdout",
     "text": [
      "[2.9658849598490633e-05, 5.178767423785757e-06, 0.026920268312096596, 0.10358455032110214, 0.004209334962069988, 0.7330115437507629, 1.5115139831323177e-05, 0.00010911698336713016, 0.13097715377807617, 0.001138105639256537]\ntensor(5)\n\n16\n"
     ]
    },
    {
     "output_type": "display_data",
     "data": {
      "text/plain": "<PIL.Image.Image image mode=L size=28x28 at 0x7FCEF0AF8CD0>",
      "image/png": "[encoded data removed]"
     },
     "metadata": {}
    },
    {
     "output_type": "display_data",
     "data": {
      "text/plain": "<PIL.Image.Image image mode=RGB size=146x11 at 0x7FCEF0A88940>",
      "image/png": "[encoded data removed]"
     },
     "metadata": {}
    },
    {
     "output_type": "stream",
     "name": "stdout",
     "text": [
      "[0.007004816085100174, 0.0029187402687966824, 0.3005478084087372, 0.0024778989609330893, 0.0014082287671044469, 0.0005992591031827033, 0.00013892119750380516, 0.45871683955192566, 0.026977380737662315, 0.1992100477218628]\ntensor(7)\n\n17\n"
     ]
    },
    {
     "output_type": "display_data",
     "data": {
      "text/plain": "<PIL.Image.Image image mode=L size=28x28 at 0x7FCEF9246A90>",
      "image/png": "[encoded data removed]"
     },
     "metadata": {}
    },
    {
     "output_type": "display_data",
     "data": {
      "text/plain": "<PIL.Image.Image image mode=RGB size=146x11 at 0x7FCEF0AF8FA0>",
      "image/png": "[encoded data removed]"
     },
     "metadata": {}
    },
    {
     "output_type": "stream",
     "name": "stdout",
     "text": [
      "[0.0012657791376113892, 0.28657016158103943, 0.030393552035093307, 0.013096828944981098, 0.0414876788854599, 0.011506429873406887, 0.00014384313544724137, 0.5307593941688538, 0.01903774030506611, 0.06573858112096786]\ntensor(7)\n\n18\n"
     ]
    },
    {
     "output_type": "display_data",
     "data": {
      "text/plain": "<PIL.Image.Image image mode=L size=28x28 at 0x7FCEF0A97400>",
      "image/png": "[encoded data removed]"
     },
     "metadata": {}
    },
    {
     "output_type": "display_data",
     "data": {
      "text/plain": "<PIL.Image.Image image mode=RGB size=146x11 at 0x7FCEF0A88940>",
      "image/png": "[encoded data removed]"
     },
     "metadata": {}
    },
    {
     "output_type": "stream",
     "name": "stdout",
     "text": [
      "[0.00010903667862294242, 0.0005573397502303123, 0.5415269136428833, 0.015097130089998245, 5.480544132296927e-05, 0.43215277791023254, 0.0002343173837289214, 0.0076516796834766865, 0.002600670326501131, 1.534260081825778e-05]\ntensor(2)\n\n19\n"
     ]
    },
    {
     "output_type": "display_data",
     "data": {
      "text/plain": "<PIL.Image.Image image mode=L size=28x28 at 0x7FCEF0AF8FA0>",
      "image/png": "[encoded data removed]"
     },
     "metadata": {}
    },
    {
     "output_type": "display_data",
     "data": {
      "text/plain": "<PIL.Image.Image image mode=RGB size=146x11 at 0x7FCEF0A88940>",
      "image/png": "[encoded data removed]"
     },
     "metadata": {}
    },
    {
     "output_type": "stream",
     "name": "stdout",
     "text": [
      "[0.0017095168586820364, 0.010257943533360958, 0.02934359572827816, 0.0004997751675546169, 0.10316552966833115, 0.00016673619393259287, 7.55499058868736e-07, 0.7894846200942993, 0.0014954055659472942, 0.06387613713741302]\ntensor(7)\n\n"
     ]
    }
   ],
   "source": [
    "for index in range(20):\n",
    "    print(index)\n",
    "    image, label = dataset[index]\n",
    "\n",
    "    display(to_pil_image(image))\n",
    "\n",
    "    patches = model.unfold_patch(image[None])[0]\n",
    "    display(to_pil_image(make_grid(patches, nrow=model.num_patches, pad_value=0.5)))\n",
    "\n",
    "    output_prob = model(image[None])[0].softmax(0)\n",
    "\n",
    "    print(output_prob.tolist())\n",
    "\n",
    "    print(output_prob.argmax())\n",
    "\n",
    "    print()"
   ]
  },
  {
   "cell_type": "code",
   "execution_count": 9,
   "metadata": {},
   "outputs": [
    {
     "output_type": "execute_result",
     "data": {
      "text/plain": [
       "(torch.Size([1, 10]),\n",
       " [0.0017095168586820364,\n",
       "  0.010257943533360958,\n",
       "  0.02934359572827816,\n",
       "  0.0004997751675546169,\n",
       "  0.10316552966833115,\n",
       "  0.00016673619393259287,\n",
       "  7.55499058868736e-07,\n",
       "  0.7894846200942993,\n",
       "  0.0014954055659472942,\n",
       "  0.06387613713741302])"
      ]
     },
     "metadata": {},
     "execution_count": 9
    }
   ],
   "source": [
    "x = image[None]\n",
    "x = model.unfold_patch(x)\n",
    "x = x.flatten(2)\n",
    "x = model.patch_embedding(x)\n",
    "x = model.transformer_encoder(x)\n",
    "x = x.mean(1)\n",
    "x = model.mlp_head(x)\n",
    "x.shape, x[0].softmax(0).tolist()"
   ]
  },
  {
   "cell_type": "code",
   "execution_count": 10,
   "metadata": {},
   "outputs": [
    {
     "output_type": "execute_result",
     "data": {
      "text/plain": [
       "ModuleList(\n",
       "  (0): TransformerEncoderLayer(\n",
       "    (self_attn): MultiheadAttention(\n",
       "      (out_proj): _LinearWithBias(in_features=64, out_features=64, bias=True)\n",
       "    )\n",
       "    (linear1): Linear(in_features=64, out_features=64, bias=True)\n",
       "    (dropout): Dropout(p=0.5, inplace=False)\n",
       "    (linear2): Linear(in_features=64, out_features=64, bias=True)\n",
       "    (norm1): LayerNorm((64,), eps=1e-05, elementwise_affine=True)\n",
       "    (norm2): LayerNorm((64,), eps=1e-05, elementwise_affine=True)\n",
       "    (dropout1): Dropout(p=0.5, inplace=False)\n",
       "    (dropout2): Dropout(p=0.5, inplace=False)\n",
       "  )\n",
       "  (1): TransformerEncoderLayer(\n",
       "    (self_attn): MultiheadAttention(\n",
       "      (out_proj): _LinearWithBias(in_features=64, out_features=64, bias=True)\n",
       "    )\n",
       "    (linear1): Linear(in_features=64, out_features=64, bias=True)\n",
       "    (dropout): Dropout(p=0.5, inplace=False)\n",
       "    (linear2): Linear(in_features=64, out_features=64, bias=True)\n",
       "    (norm1): LayerNorm((64,), eps=1e-05, elementwise_affine=True)\n",
       "    (norm2): LayerNorm((64,), eps=1e-05, elementwise_affine=True)\n",
       "    (dropout1): Dropout(p=0.5, inplace=False)\n",
       "    (dropout2): Dropout(p=0.5, inplace=False)\n",
       "  )\n",
       "  (2): TransformerEncoderLayer(\n",
       "    (self_attn): MultiheadAttention(\n",
       "      (out_proj): _LinearWithBias(in_features=64, out_features=64, bias=True)\n",
       "    )\n",
       "    (linear1): Linear(in_features=64, out_features=64, bias=True)\n",
       "    (dropout): Dropout(p=0.5, inplace=False)\n",
       "    (linear2): Linear(in_features=64, out_features=64, bias=True)\n",
       "    (norm1): LayerNorm((64,), eps=1e-05, elementwise_affine=True)\n",
       "    (norm2): LayerNorm((64,), eps=1e-05, elementwise_affine=True)\n",
       "    (dropout1): Dropout(p=0.5, inplace=False)\n",
       "    (dropout2): Dropout(p=0.5, inplace=False)\n",
       "  )\n",
       ")"
      ]
     },
     "metadata": {},
     "execution_count": 10
    }
   ],
   "source": [
    "list(model.transformer_encoder.children())[0]"
   ]
  },
  {
   "cell_type": "code",
   "execution_count": 11,
   "metadata": {},
   "outputs": [
    {
     "output_type": "execute_result",
     "data": {
      "text/plain": [
       "TransformerModel(\n",
       "  (patch_embedding): Linear(in_features=49, out_features=64, bias=True)\n",
       "  (transformer_encoder): TransformerEncoder(\n",
       "    (layers): ModuleList(\n",
       "      (0): TransformerEncoderLayer(\n",
       "        (self_attn): MultiheadAttention(\n",
       "          (out_proj): _LinearWithBias(in_features=64, out_features=64, bias=True)\n",
       "        )\n",
       "        (linear1): Linear(in_features=64, out_features=64, bias=True)\n",
       "        (dropout): Dropout(p=0.5, inplace=False)\n",
       "        (linear2): Linear(in_features=64, out_features=64, bias=True)\n",
       "        (norm1): LayerNorm((64,), eps=1e-05, elementwise_affine=True)\n",
       "        (norm2): LayerNorm((64,), eps=1e-05, elementwise_affine=True)\n",
       "        (dropout1): Dropout(p=0.5, inplace=False)\n",
       "        (dropout2): Dropout(p=0.5, inplace=False)\n",
       "      )\n",
       "      (1): TransformerEncoderLayer(\n",
       "        (self_attn): MultiheadAttention(\n",
       "          (out_proj): _LinearWithBias(in_features=64, out_features=64, bias=True)\n",
       "        )\n",
       "        (linear1): Linear(in_features=64, out_features=64, bias=True)\n",
       "        (dropout): Dropout(p=0.5, inplace=False)\n",
       "        (linear2): Linear(in_features=64, out_features=64, bias=True)\n",
       "        (norm1): LayerNorm((64,), eps=1e-05, elementwise_affine=True)\n",
       "        (norm2): LayerNorm((64,), eps=1e-05, elementwise_affine=True)\n",
       "        (dropout1): Dropout(p=0.5, inplace=False)\n",
       "        (dropout2): Dropout(p=0.5, inplace=False)\n",
       "      )\n",
       "      (2): TransformerEncoderLayer(\n",
       "        (self_attn): MultiheadAttention(\n",
       "          (out_proj): _LinearWithBias(in_features=64, out_features=64, bias=True)\n",
       "        )\n",
       "        (linear1): Linear(in_features=64, out_features=64, bias=True)\n",
       "        (dropout): Dropout(p=0.5, inplace=False)\n",
       "        (linear2): Linear(in_features=64, out_features=64, bias=True)\n",
       "        (norm1): LayerNorm((64,), eps=1e-05, elementwise_affine=True)\n",
       "        (norm2): LayerNorm((64,), eps=1e-05, elementwise_affine=True)\n",
       "        (dropout1): Dropout(p=0.5, inplace=False)\n",
       "        (dropout2): Dropout(p=0.5, inplace=False)\n",
       "      )\n",
       "    )\n",
       "  )\n",
       "  (mlp_head): Linear(in_features=64, out_features=10, bias=True)\n",
       ")"
      ]
     },
     "metadata": {},
     "execution_count": 11
    }
   ],
   "source": [
    "model"
   ]
  },
  {
   "cell_type": "code",
   "execution_count": null,
   "metadata": {},
   "outputs": [],
   "source": []
  }
 ]
}